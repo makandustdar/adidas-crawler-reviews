{
 "cells": [
  {
   "cell_type": "code",
   "execution_count": 2,
   "metadata": {
    "collapsed": true,
    "ExecuteTime": {
     "end_time": "2023-07-04T07:23:31.672258900Z",
     "start_time": "2023-07-04T07:23:31.545814800Z"
    }
   },
   "outputs": [],
   "source": [
    "from selenium import webdriver\n",
    "from selenium.webdriver.common.by import By\n",
    "import time"
   ]
  },
  {
   "cell_type": "code",
   "execution_count": 3,
   "outputs": [],
   "source": [
    "driver = webdriver.Chrome()\n",
    "# driver.get(\"https://www.adidas.com/us/search?q=\")\n",
    "driver.get(\"https://www.adidas.com/us/samba-og-shoes/B75807.html\")"
   ],
   "metadata": {
    "collapsed": false,
    "pycharm": {
     "is_executing": true
    },
    "ExecuteTime": {
     "end_time": "2023-07-04T07:23:51.908481500Z",
     "start_time": "2023-07-04T07:23:32.298031800Z"
    }
   }
  },
  {
   "cell_type": "code",
   "execution_count": 11,
   "outputs": [],
   "source": [
    "is_reviews = driver.find_element(By.CLASS_NAME, \"accordion-title___2sTgR\")\n",
    "\n",
    "if is_reviews.text != \"Reviews\":\n",
    "    reviews_count = int(is_reviews.text.split('(')[1].replace(')', ''))\n",
    "    is_reviews = True\n",
    "else:\n",
    "    reviews_count = 0\n",
    "    is_reviews = False"
   ],
   "metadata": {
    "collapsed": false,
    "pycharm": {
     "is_executing": true
    },
    "ExecuteTime": {
     "end_time": "2023-07-04T07:27:02.365617400Z",
     "start_time": "2023-07-04T07:27:02.298760600Z"
    }
   }
  },
  {
   "cell_type": "code",
   "execution_count": 12,
   "outputs": [
    {
     "data": {
      "text/plain": "2973"
     },
     "execution_count": 12,
     "metadata": {},
     "output_type": "execute_result"
    }
   ],
   "source": [],
   "metadata": {
    "collapsed": false,
    "ExecuteTime": {
     "end_time": "2023-07-04T07:27:05.435306500Z",
     "start_time": "2023-07-04T07:27:05.408859700Z"
    }
   }
  },
  {
   "cell_type": "code",
   "execution_count": 22,
   "outputs": [
    {
     "name": "stdout",
     "output_type": "stream",
     "text": [
      "{'text': 'They are so comfy!! I wore them to a day trip in San Francisco, which consisted of walking over 10 miles in one day and my feet did not hurt!!!', 'rate': 5}\n",
      "{'text': 'Fits true to size, can be mixed up with a combination of different socks', 'rate': 5}\n",
      "{'text': 'Really love how cool these sneakers are. They look great with athleisure wear, jeans, shorts, and even tailored pants. My only issue is that the back of the shoes comes up high. Because my socks say lower, they did rub against my Achilles tendon, causing them to blister. I recommend wearing high socks while breaking in the sneaker. Otherwise the shoes are comfortable . I’am a consistent size 7.5 (women’s), these were true to size', 'rate': 4}\n",
      "{'text': 'would recommend to my friends and family. really great', 'rate': 5}\n",
      "{'text': 'These shoes go well with all clothes like casual, formal, and sportswear.', 'rate': 5}\n",
      "{'text': 'I will buy in the color white, they are a really nice shoes', 'rate': 5}\n",
      "{'text': 'Love the way the shoe fits (it’s comfy and true to size) and looks (casual but with the ability to dress up or down)', 'rate': 5}\n",
      "{'text': 'Easy to style, great shoe might even go for the white next time', 'rate': 5}\n",
      "{'text': 'These shoes are very good to walk in, but they do hurt if I wear them for long periods. Overall very stylish and comfortable.', 'rate': 5}\n",
      "{'text': 'Perfect for walking around all day. They match well with almost everything', 'rate': 5}\n",
      "{'text': 'Nice shoes jehbsisbsbsbsbsbsbkx. Hobbs d. Is sbsbebjeje', 'rate': 5}\n",
      "{'text': 'I buy a half size up on the samba shoes to accommodate the width I need on these shoes. I’m really enjoying the green color ways that have been released recently. I like the fit and shorter tongue on the OG version too. Very comfortable shoes right out of the box and excellent value for the price. Sambas are my favorite classic adidas model along with the gazelles. They are also a very versatile shoe that can be paired with a lot of outfits.', 'rate': 5}\n",
      "{'text': 'Cute, comfy, made well. I like Adidas and these are true to size vs for my the gazelles run a little big for women’s sizing', 'rate': 5}\n",
      "{'text': \"This has been one of the best boughts I've made, incredible sneakers that go along with everything\", 'rate': 5}\n",
      "{'text': 'They get really hot when I’m using them in a hot day', 'rate': 3}\n",
      "{'text': 'The product is perfect, just like in the photo. Beautiful color and great quality!', 'rate': 5}\n",
      "{'text': 'I broke these in on an all day Disneyland trip and they were incredibly comfortable and felt so lightweight. They were on for 12 hours straight and I didn’t have any issues. I’m ready to order another pair.', 'rate': 5}\n",
      "17\n",
      "{'text': \"Well just old school and if you're into cool this is it I guess\", 'rate': 5}\n",
      "{'text': 'I will definitely buy the white one too. Its very modern and perfect', 'rate': 5}\n",
      "{'text': 'They look great and fit even better. Stylish without the designer price tag.', 'rate': 5}\n",
      "{'text': 'W best shoe ever will buy again and again and again', 'rate': 5}\n",
      "{'text': 'Shoes were a perfect fit. Colors were great to match with just about anything', 'rate': 5}\n",
      "22\n",
      "{'text': 'Easy to style, great shoe might even go for the white next time', 'rate': 5}\n",
      "{'text': 'These shoes are very good to walk in, but they do hurt if I wear them for long periods. Overall very stylish and comfortable.', 'rate': 5}\n",
      "{'text': 'Perfect for walking around all day. They match well with almost everything', 'rate': 5}\n",
      "{'text': 'Nice shoes jehbsisbsbsbsbsbsbkx. Hobbs d. Is sbsbebjeje', 'rate': 5}\n",
      "{'text': 'I buy a half size up on the samba shoes to accommodate the width I need on these shoes. I’m really enjoying the green color ways that have been released recently. I like the fit and shorter tongue on the OG version too. Very comfortable shoes right out of the box and excellent value for the price. Sambas are my favorite classic adidas model along with the gazelles. They are also a very versatile shoe that can be paired with a lot of outfits.', 'rate': 5}\n",
      "27\n",
      "{'text': 'Clean goes with a lot of styles, love the color scene', 'rate': 5}\n",
      "{'text': 'first, its a Samba!, Second, this is a sweet mix...', 'rate': 5}\n",
      "{'text': 'The style; comfort; no elevation in the heal; it could be a little less in volume but I guess this is what happens of you are a woman wearing a man’s shoe; perhaps they will make a women’s version', 'rate': 4}\n",
      "{'text': 'Cute, comfy, made well. I like Adidas and these are true to size vs for my the gazelles run a little big for women’s sizing', 'rate': 5}\n",
      "{'text': \"This has been one of the best boughts I've made, incredible sneakers that go along with everything\", 'rate': 5}\n",
      "32\n",
      "{'text': \"This has been one of the best boughts I've made, incredible sneakers that go along with everything\", 'rate': 5}\n",
      "{'text': 'They get really hot when I’m using them in a hot day', 'rate': 3}\n",
      "{'text': 'The product is perfect, just like in the photo. Beautiful color and great quality!', 'rate': 5}\n",
      "{'text': 'I broke these in on an all day Disneyland trip and they were incredibly comfortable and felt so lightweight. They were on for 12 hours straight and I didn’t have any issues. I’m ready to order another pair.', 'rate': 5}\n",
      "{'text': 'I don’t regret buying these I will most definitely be buying more in different color ways.', 'rate': 5}\n",
      "37\n",
      "37\n",
      "37\n",
      "37\n",
      "{'text': 'Size down. Comfortable shoe, needs time to be broken into', 'rate': 5}\n",
      "{'text': 'Can’t go wrong with these, look great with everything and really comfortable, I have two pairs.', 'rate': 5}\n",
      "{'text': 'Its rlly nice i like it and delivery was fastttt! They look good with a lot of my outfits and everyone complements them', 'rate': 5}\n",
      "{'text': \"Love these shoes it's so comfy and very light for walking, and the style is vintage, lowkey yet glamorous to pair with my summer or fall ootd\", 'rate': 5}\n",
      "{'text': 'Really comfortable and stylish. These shoes are perfect to dress up or down.', 'rate': 4}\n",
      "42\n",
      "42\n",
      "42\n",
      "42\n",
      "42\n",
      "42\n",
      "42\n",
      "42\n",
      "42\n",
      "42\n",
      "42\n",
      "42\n",
      "42\n",
      "42\n"
     ]
    },
    {
     "ename": "TypeError",
     "evalue": "'NoneType' object is not subscriptable",
     "output_type": "error",
     "traceback": [
      "\u001B[1;31m---------------------------------------------------------------------------\u001B[0m",
      "\u001B[1;31mTypeError\u001B[0m                                 Traceback (most recent call last)",
      "Cell \u001B[1;32mIn[22], line 12\u001B[0m\n\u001B[0;32m      8\u001B[0m reviews \u001B[38;5;241m=\u001B[39m reviews_box\u001B[38;5;241m.\u001B[39mfind_elements(By\u001B[38;5;241m.\u001B[39mTAG_NAME, \u001B[38;5;124m\"\u001B[39m\u001B[38;5;124marticle\u001B[39m\u001B[38;5;124m\"\u001B[39m)\n\u001B[0;32m     11\u001B[0m \u001B[38;5;28;01mif\u001B[39;00m counter \u001B[38;5;241m>\u001B[39m\u001B[38;5;241m=\u001B[39m \u001B[38;5;241m0\u001B[39m:\n\u001B[1;32m---> 12\u001B[0m     reviews \u001B[38;5;241m=\u001B[39m \u001B[43mreviews\u001B[49m\u001B[43m[\u001B[49m\u001B[43mcounter\u001B[49m\u001B[43m:\u001B[49m\u001B[43m]\u001B[49m\n\u001B[0;32m     13\u001B[0m \u001B[38;5;28;01mfor\u001B[39;00m item \u001B[38;5;129;01min\u001B[39;00m reviews:\n\u001B[0;32m     14\u001B[0m     text \u001B[38;5;241m=\u001B[39m item\u001B[38;5;241m.\u001B[39mfind_element(By\u001B[38;5;241m.\u001B[39mCLASS_NAME, \u001B[38;5;124m\"\u001B[39m\u001B[38;5;124mreview-text-container___3llE0\u001B[39m\u001B[38;5;124m\"\u001B[39m)\u001B[38;5;241m.\u001B[39mfind_element(By\u001B[38;5;241m.\u001B[39mTAG_NAME, \u001B[38;5;124m'\u001B[39m\u001B[38;5;124mdiv\u001B[39m\u001B[38;5;124m'\u001B[39m)\u001B[38;5;241m.\u001B[39mtext\n",
      "\u001B[1;31mTypeError\u001B[0m: 'NoneType' object is not subscriptable"
     ]
    }
   ],
   "source": [
    "import csv\n",
    "\n",
    "\n",
    "items = []\n",
    "counter = 0\n",
    "while True:\n",
    "    reviews_box = driver.find_element(By.CLASS_NAME, \"reviews___3fzxE\")\n",
    "    reviews = reviews_box.find_elements(By.TAG_NAME, \"article\")\n",
    "\n",
    "\n",
    "    if counter >= 0:\n",
    "        reviews = reviews[counter:]\n",
    "    for item in reviews:\n",
    "        text = item.find_element(By.CLASS_NAME, \"review-text-container___3llE0\").find_element(By.TAG_NAME, 'div').text\n",
    "\n",
    "        rate = 0\n",
    "        for i in item.find_elements(By.CLASS_NAME, \"gl-star-rating__mask\"):\n",
    "            if '88' in i.get_attribute('style'):\n",
    "                rate += 1\n",
    "        if not text:\n",
    "            break\n",
    "        items.append({\n",
    "            'text': text,\n",
    "            'rate': rate\n",
    "        })\n",
    "\n",
    "        print({\n",
    "            'text': text,\n",
    "            'rate': rate\n",
    "        })\n",
    "        counter += 1\n",
    "    read_more_box = reviews_box.find_element(By.XPATH, '//*[@id=\"bazaarvoice-container\"]/div/div[1]/button')\n",
    "    read_more_box.click()\n",
    "\n",
    "    print(counter)\n",
    "    if counter >= reviews_count:\n",
    "        break\n",
    "\n",
    "file= open('employee_file2.csv', mode='w')\n",
    "fieldnames = ['text', 'rate']\n",
    "writer = csv.DictWriter(file, fieldnames=fieldnames)\n",
    "writer.writeheader()\n",
    "writer.writerows(items)\n",
    "file.close()"
   ],
   "metadata": {
    "collapsed": false,
    "pycharm": {
     "is_executing": true
    },
    "ExecuteTime": {
     "end_time": "2023-07-04T07:35:10.864174400Z",
     "start_time": "2023-07-04T07:34:53.516734300Z"
    }
   }
  },
  {
   "cell_type": "code",
   "execution_count": null,
   "outputs": [],
   "source": [
    "\n",
    "products_box = driver.find_element(By.CLASS_NAME, 'plp-grid___1FP1J')\n",
    "all_items = products_box.find_elements(By.CLASS_NAME, \"grid-item\")\n",
    "\n",
    "for item in all_items:\n",
    "    url = item.find_element(By.CLASS_NAME, \"glass-product-card__assets\").find_element(By.TAG_NAME, \"a\").get_attribute(\n",
    "        'href')\n",
    "    driver.execute_script(\"window.open('');\")\n",
    "    # Switch to the new window\n",
    "    driver.switch_to.window(driver.window_handles[1])\n",
    "    driver.get(url)\n",
    "    time.sleep(3)\n",
    "    driver.close()\n",
    "\n",
    "    driver.switch_to.window(driver.window_handles[0])\n",
    "\n",
    "\n",
    "\n"
   ],
   "metadata": {
    "collapsed": false
   }
  },
  {
   "cell_type": "code",
   "execution_count": null,
   "outputs": [],
   "source": [],
   "metadata": {
    "collapsed": false
   }
  }
 ],
 "metadata": {
  "kernelspec": {
   "display_name": "Python 3",
   "language": "python",
   "name": "python3"
  },
  "language_info": {
   "codemirror_mode": {
    "name": "ipython",
    "version": 2
   },
   "file_extension": ".py",
   "mimetype": "text/x-python",
   "name": "python",
   "nbconvert_exporter": "python",
   "pygments_lexer": "ipython2",
   "version": "2.7.6"
  }
 },
 "nbformat": 4,
 "nbformat_minor": 0
}
