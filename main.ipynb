{
 "cells": [
  {
   "cell_type": "code",
   "execution_count": 15,
   "metadata": {
    "collapsed": true
   },
   "outputs": [],
   "source": [
    "from selenium import webdriver\n",
    "from selenium.webdriver.common.by import By\n",
    "import time"
   ]
  },
  {
   "cell_type": "code",
   "execution_count": null,
   "outputs": [],
   "source": [
    "driver = webdriver.Chrome()\n",
    "# driver.get(\"https://www.adidas.com/us/search?q=\")\n",
    "driver.get(\"https://www.adidas.com/us/samba-og-shoes/B75807.html\")"
   ],
   "metadata": {
    "collapsed": false,
    "pycharm": {
     "is_executing": true
    }
   }
  },
  {
   "cell_type": "code",
   "execution_count": null,
   "outputs": [],
   "source": [
    "is_reviews = driver.find_element(By.CLASS_NAME, \"accordion-title___2sTgR\")\n",
    "if is_reviews.text != \"Reviews\":\n",
    "    is_reviews = True\n",
    "else:\n",
    "    is_reviews = False"
   ],
   "metadata": {
    "collapsed": false,
    "pycharm": {
     "is_executing": true
    }
   }
  },
  {
   "cell_type": "code",
   "execution_count": null,
   "outputs": [],
   "source": [
    "import csv\n",
    "\n",
    "\n",
    "items = []\n",
    "\n",
    "while True:\n",
    "    reviews_box = driver.find_element(By.CLASS_NAME, \"reviews___3fzxE\")\n",
    "    reviews = reviews_box.find_elements(By.TAG_NAME, \"article\")\n",
    "    counter = 0\n",
    "\n",
    "    if counter >= 0:\n",
    "        reviews = reviews[counter:]\n",
    "    for item in reviews:\n",
    "        text = item.find_element(By.CLASS_NAME, \"review-text-container___3llE0\").find_element(By.TAG_NAME, 'div').text\n",
    "\n",
    "        rate = 0\n",
    "        for i in item.find_elements(By.CLASS_NAME, \"gl-star-rating__mask\"):\n",
    "            if '88' in i.get_attribute('style'):\n",
    "                rate += 1\n",
    "        if not text:\n",
    "            break\n",
    "        items.append({\n",
    "            'text': text,\n",
    "            'rate': rate\n",
    "        })\n",
    "\n",
    "        print({\n",
    "            'text': text,\n",
    "            'rate': rate\n",
    "        })\n",
    "        counter += 1\n",
    "    read_more_box = reviews_box.find_element(By.XPATH, '//*[@id=\"bazaarvoice-container\"]/div/div[1]/button')\n",
    "    read_more_box.click()\n",
    "    # break\n",
    "    # read_more = driver.find_element(By.CLASS_NAME, \"gl-link gl-body--s gl-no-margin-bottom\").click()\n",
    "    print(counter)\n",
    "    if counter >= 2000:\n",
    "        break\n",
    "\n",
    "file= open('employee_file2.csv', mode='w')\n",
    "fieldnames = ['text', 'rate']\n",
    "writer = csv.DictWriter(file, fieldnames=fieldnames)\n",
    "writer.writeheader()\n",
    "writer.writerows(items)\n",
    "file.close()"
   ],
   "metadata": {
    "collapsed": false,
    "pycharm": {
     "is_executing": true
    }
   }
  },
  {
   "cell_type": "code",
   "execution_count": null,
   "outputs": [],
   "source": [
    "\n",
    "products_box = driver.find_element(By.CLASS_NAME, 'plp-grid___1FP1J')\n",
    "all_items = products_box.find_elements(By.CLASS_NAME, \"grid-item\")\n",
    "\n",
    "for item in all_items:\n",
    "    url = item.find_element(By.CLASS_NAME, \"glass-product-card__assets\").find_element(By.TAG_NAME, \"a\").get_attribute(\n",
    "        'href')\n",
    "    driver.execute_script(\"window.open('');\")\n",
    "    # Switch to the new window\n",
    "    driver.switch_to.window(driver.window_handles[1])\n",
    "    driver.get(url)\n",
    "    time.sleep(3)\n",
    "    driver.close()\n",
    "\n",
    "    driver.switch_to.window(driver.window_handles[0])\n",
    "\n",
    "\n",
    "\n"
   ],
   "metadata": {
    "collapsed": false
   }
  },
  {
   "cell_type": "code",
   "execution_count": null,
   "outputs": [],
   "source": [],
   "metadata": {
    "collapsed": false
   }
  }
 ],
 "metadata": {
  "kernelspec": {
   "display_name": "Python 3",
   "language": "python",
   "name": "python3"
  },
  "language_info": {
   "codemirror_mode": {
    "name": "ipython",
    "version": 2
   },
   "file_extension": ".py",
   "mimetype": "text/x-python",
   "name": "python",
   "nbconvert_exporter": "python",
   "pygments_lexer": "ipython2",
   "version": "2.7.6"
  }
 },
 "nbformat": 4,
 "nbformat_minor": 0
}
